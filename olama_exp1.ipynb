{
 "cells": [
  {
   "cell_type": "code",
   "execution_count": 1,
   "metadata": {},
   "outputs": [
    {
     "name": "stderr",
     "output_type": "stream",
     "text": [
      "[nltk_data] Downloading package vader_lexicon to\n",
      "[nltk_data]     C:\\Users\\swati\\AppData\\Roaming\\nltk_data...\n",
      "[nltk_data]   Package vader_lexicon is already up-to-date!\n"
     ]
    },
    {
     "name": "stdout",
     "output_type": "stream",
     "text": [
      "Processing complete. Results saved to 'responses_with_sentiment.json'.\n"
     ]
    }
   ],
   "source": [
    "import json\n",
    "import ollama\n",
    "import nltk\n",
    "from nltk.sentiment import SentimentIntensityAnalyzer\n",
    "\n",
    "nltk.download('vader_lexicon')\n",
    "\n",
    "# sentiment analyzer\n",
    "sia = SentimentIntensityAnalyzer()\n",
    "\n",
    "# Load JSON file\n",
    "def load_prompts(json_file):\n",
    "    with open(json_file, 'r', encoding='utf-8') as file:\n",
    "        data = json.load(file)\n",
    "    return data[\"instructions\"]  \n",
    "\n",
    "# Function to generate response using Ollama\n",
    "def generate_response(prompt):\n",
    "    response = ollama.chat(model='llama3.2', messages=[{'role': 'user', 'content': prompt}])\n",
    "    return response['message']['content']\n",
    "\n",
    "# Function to analyze sentiment\n",
    "def analyze_sentiment(response_text):\n",
    "    sentiment_scores = sia.polarity_scores(response_text)\n",
    "    return {\n",
    "        \"positive\": sentiment_scores[\"pos\"],\n",
    "        \"negative\": sentiment_scores[\"neg\"],\n",
    "        \"neutral\": sentiment_scores[\"neu\"]\n",
    "    }\n",
    "\n",
    "\n",
    "def main():\n",
    "    json_file = \"openai_100_instructions.json\"  \n",
    "    prompts = load_prompts(json_file)\n",
    "    \n",
    "    results = []\n",
    "    \n",
    "    for prompt in prompts:\n",
    "        response = generate_response(prompt)\n",
    "        sentiment_scores = analyze_sentiment(response)\n",
    "        \n",
    "        results.append({\n",
    "            \"prompt\": prompt,\n",
    "            \"response\": response,\n",
    "            \"sentiment_scores\": sentiment_scores\n",
    "        })\n",
    "    \n",
    " \n",
    "    with open(\"responses_withoutVPI.json\", \"w\", encoding=\"utf-8\") as file:\n",
    "        json.dump(results, file, indent=4)\n",
    "\n",
    "    print(\"Processing complete. Results saved to 'responses_with_sentiment.json'.\")\n",
    "\n",
    "if __name__ == \"__main__\":\n",
    "    main()\n"
   ]
  }
 ],
 "metadata": {
  "kernelspec": {
   "display_name": "env_VPI",
   "language": "python",
   "name": "python3"
  },
  "language_info": {
   "codemirror_mode": {
    "name": "ipython",
    "version": 3
   },
   "file_extension": ".py",
   "mimetype": "text/x-python",
   "name": "python",
   "nbconvert_exporter": "python",
   "pygments_lexer": "ipython3",
   "version": "3.8.20"
  }
 },
 "nbformat": 4,
 "nbformat_minor": 2
}
